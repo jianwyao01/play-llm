{
 "cells": [
  {
   "cell_type": "code",
   "id": "initial_id",
   "metadata": {
    "collapsed": true,
    "ExecuteTime": {
     "end_time": "2025-03-25T03:00:17.257558Z",
     "start_time": "2025-03-25T03:00:17.180458Z"
    }
   },
   "source": "import numpy as np",
   "outputs": [],
   "execution_count": 1
  },
  {
   "metadata": {
    "ExecuteTime": {
     "end_time": "2025-03-25T03:01:03.431901Z",
     "start_time": "2025-03-25T03:01:03.428454Z"
    }
   },
   "cell_type": "code",
   "source": [
    "x = np.array([1, 2, 3])\n",
    "\n",
    "print(x.__class__)\n",
    "print(x.shape)\n",
    "print(x.ndim)"
   ],
   "id": "a88ef622bbad26bb",
   "outputs": [
    {
     "name": "stdout",
     "output_type": "stream",
     "text": [
      "<class 'numpy.ndarray'>\n",
      "(3,)\n",
      "1\n"
     ]
    }
   ],
   "execution_count": 4
  },
  {
   "metadata": {
    "ExecuteTime": {
     "end_time": "2025-03-25T03:16:49.957257Z",
     "start_time": "2025-03-25T03:16:49.952100Z"
    }
   },
   "cell_type": "code",
   "source": [
    "W = np.array([[1,2,3], [4,5,6]])\n",
    "print(W.shape)\n",
    "print(W.ndim)"
   ],
   "id": "a05a0d6f5c68c9fc",
   "outputs": [
    {
     "name": "stdout",
     "output_type": "stream",
     "text": [
      "(2, 3)\n",
      "2\n"
     ]
    }
   ],
   "execution_count": 5
  },
  {
   "metadata": {
    "ExecuteTime": {
     "end_time": "2025-03-25T03:18:03.249093Z",
     "start_time": "2025-03-25T03:18:03.244874Z"
    }
   },
   "cell_type": "code",
   "source": [
    "W = np.array([[1,2,3], [4,5,6]])\n",
    "X = np.array([[0,1,2], [3,4,5]])\n",
    "\n",
    "print(W + X)\n",
    "print(W * X)"
   ],
   "id": "452950544f5d637e",
   "outputs": [
    {
     "name": "stdout",
     "output_type": "stream",
     "text": [
      "[[ 1  3  5]\n",
      " [ 7  9 11]]\n",
      "[[ 0  2  6]\n",
      " [12 20 30]]\n"
     ]
    }
   ],
   "execution_count": 6
  },
  {
   "metadata": {
    "ExecuteTime": {
     "end_time": "2025-03-25T03:19:18.047523Z",
     "start_time": "2025-03-25T03:19:18.044360Z"
    }
   },
   "cell_type": "code",
   "source": [
    "A = np.array([[1,2], [3,4]])\n",
    "print(A * 10)"
   ],
   "id": "66b9a9b73d7af9bf",
   "outputs": [
    {
     "name": "stdout",
     "output_type": "stream",
     "text": [
      "[[10 20]\n",
      " [30 40]]\n"
     ]
    }
   ],
   "execution_count": 7
  },
  {
   "metadata": {
    "ExecuteTime": {
     "end_time": "2025-03-25T03:19:49.304789Z",
     "start_time": "2025-03-25T03:19:49.301762Z"
    }
   },
   "cell_type": "code",
   "source": [
    "A = np.array([[1,2], [3,4]])\n",
    "b = np.array([10, 20])\n",
    "A * b"
   ],
   "id": "198dce3363e0a135",
   "outputs": [
    {
     "data": {
      "text/plain": [
       "array([[10, 40],\n",
       "       [30, 80]])"
      ]
     },
     "execution_count": 8,
     "metadata": {},
     "output_type": "execute_result"
    }
   ],
   "execution_count": 8
  },
  {
   "metadata": {
    "ExecuteTime": {
     "end_time": "2025-03-25T03:20:54.994630Z",
     "start_time": "2025-03-25T03:20:54.991147Z"
    }
   },
   "cell_type": "code",
   "source": [
    "a = np.array([1, 2, 3])\n",
    "b = np.array([4, 5, 6])\n",
    "np.dot(a, b)"
   ],
   "id": "2d9b85140a1c6deb",
   "outputs": [
    {
     "data": {
      "text/plain": [
       "np.int64(32)"
      ]
     },
     "execution_count": 9,
     "metadata": {},
     "output_type": "execute_result"
    }
   ],
   "execution_count": 9
  },
  {
   "metadata": {
    "ExecuteTime": {
     "end_time": "2025-03-25T03:21:11.306920Z",
     "start_time": "2025-03-25T03:21:11.303378Z"
    }
   },
   "cell_type": "code",
   "source": [
    "A = np.array([[1,2], [3,4]])\n",
    "B = np.array([[5,6], [7,8]])\n",
    "np.dot(A, B)"
   ],
   "id": "c31bb5977dd265c9",
   "outputs": [
    {
     "data": {
      "text/plain": [
       "array([[19, 22],\n",
       "       [43, 50]])"
      ]
     },
     "execution_count": 10,
     "metadata": {},
     "output_type": "execute_result"
    }
   ],
   "execution_count": 10
  },
  {
   "metadata": {
    "ExecuteTime": {
     "end_time": "2025-03-25T03:28:41.137547Z",
     "start_time": "2025-03-25T03:28:41.134264Z"
    }
   },
   "cell_type": "code",
   "source": [
    "W1 = np.random.randn(2,4)\n",
    "b1 = np.random.randn(4)\n",
    "x = np.random.randn(10, 2)\n",
    "h = np.dot(x, W1) + b1\n",
    "\n",
    "print(np.dot(x, W1).shape)\n",
    "print(h)"
   ],
   "id": "488761fe19219b45",
   "outputs": [
    {
     "name": "stdout",
     "output_type": "stream",
     "text": [
      "(10, 4)\n",
      "[[ 1.73360967  1.21267991 -0.59726798 -0.31275142]\n",
      " [ 1.73889566  1.0532075  -0.40550253 -0.27970058]\n",
      " [ 1.11117059 -0.31469527  0.29320265 -1.27814681]\n",
      " [ 1.8326737   1.20468206 -0.44875909 -0.12291807]\n",
      " [ 1.37502187 -0.01978116  0.32323303 -0.8181093 ]\n",
      " [ 2.60114452  2.75145355 -1.15635857  1.11781897]\n",
      " [ 0.75333024 -1.39869033  1.04314233 -1.8034778 ]\n",
      " [ 1.45837698  0.76554542 -0.46734656 -0.77252853]\n",
      " [ 1.22971745 -0.24224133  0.37610616 -1.0628004 ]\n",
      " [ 0.97666283 -1.05058858  0.95473187 -1.42827891]]\n"
     ]
    }
   ],
   "execution_count": 13
  },
  {
   "metadata": {
    "ExecuteTime": {
     "end_time": "2025-03-25T03:31:33.131417Z",
     "start_time": "2025-03-25T03:31:33.125411Z"
    }
   },
   "cell_type": "code",
   "source": [
    "def sigmoid(x):\n",
    "    return 1 / (1 + np.exp(-x))\n",
    "\n",
    "x = np.random.randn(10, 2)\n",
    "W1 = np.random.randn(2,4)\n",
    "b1 = np.random.randn(4)\n",
    "W2 = np.random.randn(4, 3)\n",
    "b2 = np.random.randn(3)\n",
    "\n",
    "h = np.dot(x, W1) + b1\n",
    "a = sigmoid(h)\n",
    "s = np.dot(a, W2) + b2\n",
    "\n",
    "s"
   ],
   "id": "cdc6be50d28e02a0",
   "outputs": [
    {
     "data": {
      "text/plain": [
       "array([[-2.38544055, -2.43028504, -0.01327088],\n",
       "       [-2.47272315, -2.4314212 , -0.28652599],\n",
       "       [-2.68891939, -2.39572533, -0.99151795],\n",
       "       [-1.59470578, -1.64724362, -1.44001363],\n",
       "       [-2.78134379, -2.38971425, -1.24373124],\n",
       "       [-2.42388976, -2.43172776, -0.1323378 ],\n",
       "       [-2.68275702, -2.53128667, -0.33419347],\n",
       "       [-1.6187695 , -1.99916946, -0.47321421],\n",
       "       [-2.68393223, -2.26616817, -1.48441561],\n",
       "       [-2.20748038, -2.31417537, -0.24438515]])"
      ]
     },
     "execution_count": 14,
     "metadata": {},
     "output_type": "execute_result"
    }
   ],
   "execution_count": 14
  },
  {
   "metadata": {
    "ExecuteTime": {
     "end_time": "2025-03-25T03:32:21.141709Z",
     "start_time": "2025-03-25T03:32:21.139260Z"
    }
   },
   "cell_type": "code",
   "source": [
    "class Sigmoid:\n",
    "    def __init__(self):\n",
    "        self.params = []\n",
    "    \n",
    "    def forward(self, x):\n",
    "        return 1 / (1 + np.exp(-x))"
   ],
   "id": "4313502582a43224",
   "outputs": [],
   "execution_count": 15
  },
  {
   "metadata": {
    "ExecuteTime": {
     "end_time": "2025-03-25T03:32:58.943895Z",
     "start_time": "2025-03-25T03:32:58.940473Z"
    }
   },
   "cell_type": "code",
   "source": [
    "class Affine:\n",
    "    def __init__(self, W, b):\n",
    "        self.params = [W, b]\n",
    "    \n",
    "    def forward(self, x):\n",
    "        W, b = self.params\n",
    "        out = np.dot(x, W) + b\n",
    "        return out"
   ],
   "id": "22341743416ff6b5",
   "outputs": [],
   "execution_count": 16
  },
  {
   "metadata": {
    "ExecuteTime": {
     "end_time": "2025-03-25T03:40:09.479507Z",
     "start_time": "2025-03-25T03:40:09.474519Z"
    }
   },
   "cell_type": "code",
   "source": [
    "class TwoLayerNet:\n",
    "    def __init__(self, input_size, hidden_size, output_size):\n",
    "        I, H, O = input_size, hidden_size, output_size\n",
    "        \n",
    "        W1 = np.random.randn(I, H)\n",
    "        b1 = np.random.randn(H)\n",
    "        W2 = np.random.randn(H, O)\n",
    "        b2 = np.random.randn(O)\n",
    "        \n",
    "        self.layers = [\n",
    "            Affine(W1, b1),\n",
    "            Sigmoid(),\n",
    "            Affine(W2, b2)\n",
    "        ]\n",
    "        \n",
    "        self.params = []\n",
    "        for layer in self.layers:\n",
    "            self.params += layer.params\n",
    "            \n",
    "    def predict(self, x):\n",
    "        for layer in self.layers:\n",
    "            x = layer.forward(x)\n",
    "        return x"
   ],
   "id": "8a68229d8f3dc63a",
   "outputs": [],
   "execution_count": 17
  },
  {
   "metadata": {
    "ExecuteTime": {
     "end_time": "2025-03-25T03:40:42.880719Z",
     "start_time": "2025-03-25T03:40:42.876314Z"
    }
   },
   "cell_type": "code",
   "source": [
    "x = np.random.randn(10, 2)\n",
    "model = TwoLayerNet(2, 4, 3)\n",
    "s = model.predict(x)\n",
    "s"
   ],
   "id": "2c9db2cd15afe2b2",
   "outputs": [
    {
     "data": {
      "text/plain": [
       "array([[-0.92529081, -2.61951521,  1.26531198],\n",
       "       [-1.31270945, -2.63077122,  1.23165011],\n",
       "       [-0.53279349, -2.60540579,  1.23491534],\n",
       "       [-0.61253079, -2.42078141,  1.29084479],\n",
       "       [-0.62105161, -2.70218951,  1.18445457],\n",
       "       [-1.10385868, -2.78794247,  1.23804147],\n",
       "       [ 0.42787666, -2.19636709,  1.23226501],\n",
       "       [-1.63288087, -2.73559969,  1.18760493],\n",
       "       [-0.40433819, -2.58010161,  1.2167164 ],\n",
       "       [-0.17840108, -2.44829414,  1.25108186]])"
      ]
     },
     "execution_count": 20,
     "metadata": {},
     "output_type": "execute_result"
    }
   ],
   "execution_count": 20
  },
  {
   "metadata": {
    "ExecuteTime": {
     "end_time": "2025-03-25T03:48:06.905969Z",
     "start_time": "2025-03-25T03:48:06.902091Z"
    }
   },
   "cell_type": "code",
   "source": [
    "D, N = 8, 7\n",
    "x = np.random.randn(N, D)\n",
    "y = np.sum(x, axis=0, keepdims=True)\n",
    "\n",
    "dy = np.random.randn(1, D)\n",
    "dx = np.repeat(dy, N, axis=0) # backward"
   ],
   "id": "24af033526c7ba6c",
   "outputs": [],
   "execution_count": 21
  },
  {
   "metadata": {
    "ExecuteTime": {
     "end_time": "2025-03-25T03:49:19.574235Z",
     "start_time": "2025-03-25T03:49:19.569455Z"
    }
   },
   "cell_type": "code",
   "source": [
    "D, N = 8, 7\n",
    "x = np.random.randn(1, D)\n",
    "y = np.repeat(x, N, axis=0)\n",
    "\n",
    "dy = np.random.rand(N, D)\n",
    "dx = np.sum(dy, axis=0, keepdims=True) # backward"
   ],
   "id": "960fbf872252e9d8",
   "outputs": [],
   "execution_count": 22
  },
  {
   "metadata": {
    "ExecuteTime": {
     "end_time": "2025-03-25T03:56:40.237591Z",
     "start_time": "2025-03-25T03:56:40.231939Z"
    }
   },
   "cell_type": "code",
   "source": [
    "class MatMul:\n",
    "    def __init__(self, W):\n",
    "        self.params = [W]\n",
    "        self.grads = [np.zeros_like(W)]\n",
    "        self.x = None\n",
    "        \n",
    "    def forward(self, x):\n",
    "        W, = self.params\n",
    "        out = np.dot(x, W)\n",
    "        self.x = x\n",
    "        return out\n",
    "    \n",
    "    def backward(self, dout):\n",
    "        W, = self.params\n",
    "        dx = np.dot(dout, W.T)\n",
    "        dW = np.dot(self.x.T, dout)\n",
    "        self.grads[0][...] = dW\n",
    "        return dx"
   ],
   "id": "ea2d2bc15d3beaa7",
   "outputs": [],
   "execution_count": 23
  },
  {
   "metadata": {
    "ExecuteTime": {
     "end_time": "2025-03-25T03:57:39.035410Z",
     "start_time": "2025-03-25T03:57:39.031064Z"
    }
   },
   "cell_type": "code",
   "source": [
    "class Sigmoid:\n",
    "    def __init__(self):\n",
    "        self.params, self.grads = [], []\n",
    "        self.out = None\n",
    "        \n",
    "    def forward(self, x):\n",
    "        out = 1 / (1 + np.exp(-x))\n",
    "        self.out = out\n",
    "        return out\n",
    "    \n",
    "    def backward(self, dout):\n",
    "        dx = dout * (1.0 - self.out) * self.out\n",
    "        return dx"
   ],
   "id": "ab938e68b5895f87",
   "outputs": [],
   "execution_count": 24
  },
  {
   "metadata": {
    "ExecuteTime": {
     "end_time": "2025-03-25T04:42:05.952243Z",
     "start_time": "2025-03-25T04:42:05.946695Z"
    }
   },
   "cell_type": "code",
   "source": [
    "class Affine:\n",
    "    def __init__(self, W, b):\n",
    "        self.params = [W, b]\n",
    "        self.grads = [np.zeros_like(W), np.zeros_like(b)]\n",
    "        self.x = None\n",
    "        \n",
    "    def forward(self, x):\n",
    "        W, b = self.params\n",
    "        out = np.dot(x, W) + b\n",
    "        self.x = x\n",
    "        return out\n",
    "    \n",
    "    def backward(self, dout):\n",
    "        W, b = self.params\n",
    "        dx = np.dot(dout, W.T)\n",
    "        dW = np.dot(self.x.T, dout)\n",
    "        db = np.sum(dout, axis=0)\n",
    "        \n",
    "        self.grads[0][...] = dW\n",
    "        self.grads[1][...] = db\n",
    "        return dx\n",
    "    "
   ],
   "id": "88a914454190d4c4",
   "outputs": [],
   "execution_count": 25
  },
  {
   "metadata": {
    "ExecuteTime": {
     "end_time": "2025-03-25T04:42:21.178609Z",
     "start_time": "2025-03-25T04:42:21.175Z"
    }
   },
   "cell_type": "code",
   "source": [
    "class SGD:\n",
    "    def __init__(self, lr=0.01):\n",
    "        self.lr = lr\n",
    "        \n",
    "    def update(self, params, grads):\n",
    "        for i in range(len(params)):\n",
    "            params[i] -= self.lr * grads[i]"
   ],
   "id": "cdc4a119efc37e0a",
   "outputs": [],
   "execution_count": 26
  },
  {
   "metadata": {
    "ExecuteTime": {
     "end_time": "2025-03-25T04:48:38.372197Z",
     "start_time": "2025-03-25T04:48:13.361057Z"
    }
   },
   "cell_type": "code",
   "source": [
    "import sys\n",
    "sys.path.append('..')\n",
    "from nndataset import spiral\n",
    "!pip3 install matplotlib\n",
    "import matplotlib.pyplot as plt\n",
    "\n",
    "x, t = spiral.load_data()\n",
    "print('x', x.shape)\n",
    "print('t', t.shape)"
   ],
   "id": "9e417a94dd7a5ca9",
   "outputs": [
    {
     "name": "stdout",
     "output_type": "stream",
     "text": [
      "Collecting matplotlib\r\n",
      "  Obtaining dependency information for matplotlib from https://files.pythonhosted.org/packages/da/36/236fbd868b6c91309a5206bd90c3f881f4f44b2d997cd1d6239ef652f878/matplotlib-3.9.4-cp39-cp39-macosx_11_0_arm64.whl.metadata\r\n",
      "  Downloading matplotlib-3.9.4-cp39-cp39-macosx_11_0_arm64.whl.metadata (11 kB)\r\n",
      "Collecting contourpy>=1.0.1 (from matplotlib)\r\n",
      "  Obtaining dependency information for contourpy>=1.0.1 from https://files.pythonhosted.org/packages/ec/22/19f5b948367ab5260fb41d842c7a78dae645603881ea6bc39738bcfcabf6/contourpy-1.3.0-cp39-cp39-macosx_11_0_arm64.whl.metadata\r\n",
      "  Downloading contourpy-1.3.0-cp39-cp39-macosx_11_0_arm64.whl.metadata (5.4 kB)\r\n",
      "Collecting cycler>=0.10 (from matplotlib)\r\n",
      "  Obtaining dependency information for cycler>=0.10 from https://files.pythonhosted.org/packages/e7/05/c19819d5e3d95294a6f5947fb9b9629efb316b96de511b418c53d245aae6/cycler-0.12.1-py3-none-any.whl.metadata\r\n",
      "  Downloading cycler-0.12.1-py3-none-any.whl.metadata (3.8 kB)\r\n",
      "Collecting fonttools>=4.22.0 (from matplotlib)\r\n",
      "  Obtaining dependency information for fonttools>=4.22.0 from https://files.pythonhosted.org/packages/c2/a0/c62b7f219f74f0e9c4b7662c269b360f5c380cf7dfabaff06e114acc5576/fonttools-4.56.0-cp39-cp39-macosx_10_9_universal2.whl.metadata\r\n",
      "  Downloading fonttools-4.56.0-cp39-cp39-macosx_10_9_universal2.whl.metadata (101 kB)\r\n",
      "\u001B[2K     \u001B[90m━━━━━━━━━━━━━━━━━━━━━━━━━━━━━━━━━━━━━\u001B[0m \u001B[32m101.9/101.9 kB\u001B[0m \u001B[31m846.8 kB/s\u001B[0m eta \u001B[36m0:00:00\u001B[0ma \u001B[36m0:00:01\u001B[0m\r\n",
      "\u001B[?25hCollecting kiwisolver>=1.3.1 (from matplotlib)\r\n",
      "  Obtaining dependency information for kiwisolver>=1.3.1 from https://files.pythonhosted.org/packages/8a/be/a6ae58978772f685d48dd2e84460937761c53c4bbd84e42b0336473d9775/kiwisolver-1.4.7-cp39-cp39-macosx_11_0_arm64.whl.metadata\r\n",
      "  Downloading kiwisolver-1.4.7-cp39-cp39-macosx_11_0_arm64.whl.metadata (6.3 kB)\r\n",
      "Requirement already satisfied: numpy>=1.23 in ./.venv/lib/python3.9/site-packages (from matplotlib) (2.0.2)\r\n",
      "Requirement already satisfied: packaging>=20.0 in ./.venv/lib/python3.9/site-packages (from matplotlib) (24.2)\r\n",
      "Collecting pillow>=8 (from matplotlib)\r\n",
      "  Obtaining dependency information for pillow>=8 from https://files.pythonhosted.org/packages/a6/62/c7b359e924dca274173b04922ac06aa63614f7e934d132f2fe1d852509aa/pillow-11.1.0-cp39-cp39-macosx_11_0_arm64.whl.metadata\r\n",
      "  Downloading pillow-11.1.0-cp39-cp39-macosx_11_0_arm64.whl.metadata (9.1 kB)\r\n",
      "Collecting pyparsing>=2.3.1 (from matplotlib)\r\n",
      "  Obtaining dependency information for pyparsing>=2.3.1 from https://files.pythonhosted.org/packages/f9/83/80c17698f41131f7157a26ae985e2c1f5526db79f277c4416af145f3e12b/pyparsing-3.2.2-py3-none-any.whl.metadata\r\n",
      "  Downloading pyparsing-3.2.2-py3-none-any.whl.metadata (5.0 kB)\r\n",
      "Requirement already satisfied: python-dateutil>=2.7 in ./.venv/lib/python3.9/site-packages (from matplotlib) (2.9.0.post0)\r\n",
      "Collecting importlib-resources>=3.2.0 (from matplotlib)\r\n",
      "  Obtaining dependency information for importlib-resources>=3.2.0 from https://files.pythonhosted.org/packages/a4/ed/1f1afb2e9e7f38a545d628f864d562a5ae64fe6f7a10e28ffb9b185b4e89/importlib_resources-6.5.2-py3-none-any.whl.metadata\r\n",
      "  Downloading importlib_resources-6.5.2-py3-none-any.whl.metadata (3.9 kB)\r\n",
      "Requirement already satisfied: zipp>=3.1.0 in ./.venv/lib/python3.9/site-packages (from importlib-resources>=3.2.0->matplotlib) (3.21.0)\r\n",
      "Requirement already satisfied: six>=1.5 in ./.venv/lib/python3.9/site-packages (from python-dateutil>=2.7->matplotlib) (1.17.0)\r\n",
      "Downloading matplotlib-3.9.4-cp39-cp39-macosx_11_0_arm64.whl (7.8 MB)\r\n",
      "\u001B[2K   \u001B[90m━━━━━━━━━━━━━━━━━━━━━━━━━━━━━━━━━━━━━━━━\u001B[0m \u001B[32m7.8/7.8 MB\u001B[0m \u001B[31m11.6 MB/s\u001B[0m eta \u001B[36m0:00:00\u001B[0m00:01\u001B[0m00:01\u001B[0m\r\n",
      "\u001B[?25hDownloading contourpy-1.3.0-cp39-cp39-macosx_11_0_arm64.whl (249 kB)\r\n",
      "\u001B[2K   \u001B[90m━━━━━━━━━━━━━━━━━━━━━━━━━━━━━━━━━━━━━━━━\u001B[0m \u001B[32m249.3/249.3 kB\u001B[0m \u001B[31m8.0 MB/s\u001B[0m eta \u001B[36m0:00:00\u001B[0m\r\n",
      "\u001B[?25hUsing cached cycler-0.12.1-py3-none-any.whl (8.3 kB)\r\n",
      "Downloading fonttools-4.56.0-cp39-cp39-macosx_10_9_universal2.whl (2.8 MB)\r\n",
      "\u001B[2K   \u001B[90m━━━━━━━━━━━━━━━━━━━━━━━━━━━━━━━━━━━━━━━━\u001B[0m \u001B[32m2.8/2.8 MB\u001B[0m \u001B[31m12.6 MB/s\u001B[0m eta \u001B[36m0:00:00\u001B[0m \u001B[36m0:00:01\u001B[0mm\r\n",
      "\u001B[?25hUsing cached importlib_resources-6.5.2-py3-none-any.whl (37 kB)\r\n",
      "Downloading kiwisolver-1.4.7-cp39-cp39-macosx_11_0_arm64.whl (64 kB)\r\n",
      "\u001B[2K   \u001B[90m━━━━━━━━━━━━━━━━━━━━━━━━━━━━━━━━━━━━━━━━\u001B[0m \u001B[32m64.3/64.3 kB\u001B[0m \u001B[31m4.9 MB/s\u001B[0m eta \u001B[36m0:00:00\u001B[0m\r\n",
      "\u001B[?25hDownloading pillow-11.1.0-cp39-cp39-macosx_11_0_arm64.whl (3.1 MB)\r\n",
      "\u001B[2K   \u001B[90m━━━━━━━━━━━━━━━━━━━━━━━━━━━━━━━━━━━━━━━━\u001B[0m \u001B[32m3.1/3.1 MB\u001B[0m \u001B[31m10.5 MB/s\u001B[0m eta \u001B[36m0:00:00\u001B[0m00:01\u001B[0m0:01\u001B[0mm\r\n",
      "\u001B[?25hDownloading pyparsing-3.2.2-py3-none-any.whl (111 kB)\r\n",
      "\u001B[2K   \u001B[90m━━━━━━━━━━━━━━━━━━━━━━━━━━━━━━━━━━━━━━━━\u001B[0m \u001B[32m111.1/111.1 kB\u001B[0m \u001B[31m7.3 MB/s\u001B[0m eta \u001B[36m0:00:00\u001B[0m\r\n",
      "\u001B[?25hInstalling collected packages: pyparsing, pillow, kiwisolver, importlib-resources, fonttools, cycler, contourpy, matplotlib\r\n",
      "Successfully installed contourpy-1.3.0 cycler-0.12.1 fonttools-4.56.0 importlib-resources-6.5.2 kiwisolver-1.4.7 matplotlib-3.9.4 pillow-11.1.0 pyparsing-3.2.2\r\n",
      "\r\n",
      "\u001B[1m[\u001B[0m\u001B[34;49mnotice\u001B[0m\u001B[1;39;49m]\u001B[0m\u001B[39;49m A new release of pip is available: \u001B[0m\u001B[31;49m23.2.1\u001B[0m\u001B[39;49m -> \u001B[0m\u001B[32;49m25.0.1\u001B[0m\r\n",
      "\u001B[1m[\u001B[0m\u001B[34;49mnotice\u001B[0m\u001B[1;39;49m]\u001B[0m\u001B[39;49m To update, run: \u001B[0m\u001B[32;49mpip install --upgrade pip\u001B[0m\r\n",
      "x (300, 2)\n",
      "t (300, 3)\n"
     ]
    }
   ],
   "execution_count": 28
  },
  {
   "metadata": {
    "ExecuteTime": {
     "end_time": "2025-03-25T05:09:33.599929Z",
     "start_time": "2025-03-25T05:09:33.592508Z"
    }
   },
   "cell_type": "code",
   "source": [
    "import sys\n",
    "sys.path.append('..')\n",
    "import numpy as np\n",
    "from common.layers import Affine, Sigmoid, SoftmaxWithLoss\n",
    "\n",
    "class TwoLayerNet:\n",
    "    def __init__(self, input_size, hidden_size, output_size):\n",
    "        I, H, O = input_size, hidden_size, output_size\n",
    "\n",
    "        W1 = 0.01 * np.random.randn(I, H)\n",
    "        b1 = np.zeros(H)\n",
    "        W2 = 0.01 * np.random.randn(H, O)\n",
    "        b2 = np.zeros(O)\n",
    "\n",
    "        self.layers = [\n",
    "            Affine(W1, b1),\n",
    "            Sigmoid(),\n",
    "            Affine(W2, b2)\n",
    "        ]\n",
    "        self.loss_layer = SoftmaxWithLoss()\n",
    "\n",
    "        self.params, self.grads = [], []\n",
    "        for layer in self.layers:\n",
    "            self.params += layer.params\n",
    "            self.grads += layer.grads\n",
    "\n",
    "    def predict(self, x):\n",
    "        for layer in self.layers:\n",
    "            x = layer.forward(x)\n",
    "        return x\n",
    "\n",
    "    def forward(self, x, t):\n",
    "        score = self.predict(x)\n",
    "        loss = self.loss_layer.forward(score, t)\n",
    "        return loss\n",
    "\n",
    "    def backward(self, dout=1):\n",
    "        dout = self.loss_layer.backward(dout)\n",
    "        for layer in reversed(self.layers):\n",
    "            dout = layer.backward(dout)\n",
    "        return dout"
   ],
   "id": "301cfe17ccbf007f",
   "outputs": [],
   "execution_count": 35
  },
  {
   "metadata": {
    "ExecuteTime": {
     "end_time": "2025-03-25T05:09:36.087376Z",
     "start_time": "2025-03-25T05:09:35.136749Z"
    }
   },
   "cell_type": "code",
   "source": [
    "from common.optimizer import SGD\n",
    "from nndataset import spiral\n",
    "import matplotlib.pyplot as plt\n",
    "\n",
    "max_epoch = 300\n",
    "batch_size = 30\n",
    "hidden_size = 10\n",
    "learning_rate = 1.0\n",
    "\n",
    "x, t = spiral.load_data()\n",
    "model = TwoLayerNet(input_size=2, hidden_size=hidden_size, output_size=3)\n",
    "optimizer = SGD(lr=learning_rate)\n",
    "\n",
    "data_size = len(x)\n",
    "max_iters = data_size // batch_size\n",
    "total_loss = 0\n",
    "loss_count = 0\n",
    "loss_list = []\n",
    "\n",
    "for epoch in range(max_epoch):\n",
    "    idx = np.random.permutation(data_size)\n",
    "    x = x[idx]\n",
    "    t = t[idx]\n",
    "    \n",
    "    for iters in range(max_iters):\n",
    "        batch_x = x[iters*batch_size:(iters+1)*batch_size]\n",
    "        batch_t = t[iters*batch_size:(iters+1)*batch_size]\n",
    "        \n",
    "        loss = model.forward(batch_x, batch_t)\n",
    "        model.backward()\n",
    "        optimizer.update(model.params, model.grads)\n",
    "        \n",
    "        total_loss += loss\n",
    "        loss_count += 1\n",
    "        \n",
    "        if (iters+1) % 10 == 0:\n",
    "            avg_loss = total_loss / loss_count\n",
    "            print(f'| epoch {epoch+1} | iter {iters+1} / {max_iters} | loss {avg_loss:.2f}')\n",
    "            loss_list.append(avg_loss)\n",
    "            total_loss, loss_count = 0, 0\n",
    "            \n",
    "\n",
    "plt.plot(np.arange(len(loss_list)), loss_list, label='train')\n",
    "plt.xlabel('iterations (x10)')\n",
    "plt.ylabel('loss')\n",
    "plt.show()\n",
    "\n",
    "h = 0.001\n",
    "x_min, x_max = x[:, 0].min() - .1, x[:, 0].max() + .1\n",
    "y_min, y_max = x[:, 1].min() - .1, x[:, 1].max() + .1\n",
    "xx, yy = np.meshgrid(np.arange(x_min, x_max, h), np.arange(y_min, y_max, h))\n",
    "X = np.c_[xx.ravel(), yy.ravel()]\n",
    "score = model.predict(X)\n",
    "predict_cls = np.argmax(score, axis=1)\n",
    "Z = predict_cls.reshape(xx.shape)\n",
    "plt.contourf(xx, yy, Z)\n",
    "plt.axis('off')\n",
    "\n",
    "x, t = spiral.load_data()\n",
    "N = 100\n",
    "CLS_NUM = 3\n",
    "markers = ['o', 'x', '^']\n",
    "for i in range(CLS_NUM):\n",
    "    plt.scatter(x[i*N:(i+1)*N, 0], x[i*N:(i+1)*N, 1], s=40, marker=markers[i])\n",
    "plt.show()"
   ],
   "id": "c3f472ffe45e15b1",
   "outputs": [
    {
     "name": "stdout",
     "output_type": "stream",
     "text": [
      "| epoch 1 | iter 10 / 10 | loss 1.13\n",
      "| epoch 2 | iter 10 / 10 | loss 1.13\n",
      "| epoch 3 | iter 10 / 10 | loss 1.12\n",
      "| epoch 4 | iter 10 / 10 | loss 1.12\n",
      "| epoch 5 | iter 10 / 10 | loss 1.11\n",
      "| epoch 6 | iter 10 / 10 | loss 1.14\n",
      "| epoch 7 | iter 10 / 10 | loss 1.16\n",
      "| epoch 8 | iter 10 / 10 | loss 1.11\n",
      "| epoch 9 | iter 10 / 10 | loss 1.12\n",
      "| epoch 10 | iter 10 / 10 | loss 1.13\n",
      "| epoch 11 | iter 10 / 10 | loss 1.12\n",
      "| epoch 12 | iter 10 / 10 | loss 1.11\n",
      "| epoch 13 | iter 10 / 10 | loss 1.09\n",
      "| epoch 14 | iter 10 / 10 | loss 1.08\n",
      "| epoch 15 | iter 10 / 10 | loss 1.04\n",
      "| epoch 16 | iter 10 / 10 | loss 1.03\n",
      "| epoch 17 | iter 10 / 10 | loss 0.96\n",
      "| epoch 18 | iter 10 / 10 | loss 0.92\n",
      "| epoch 19 | iter 10 / 10 | loss 0.92\n",
      "| epoch 20 | iter 10 / 10 | loss 0.87\n",
      "| epoch 21 | iter 10 / 10 | loss 0.85\n",
      "| epoch 22 | iter 10 / 10 | loss 0.82\n",
      "| epoch 23 | iter 10 / 10 | loss 0.79\n",
      "| epoch 24 | iter 10 / 10 | loss 0.78\n",
      "| epoch 25 | iter 10 / 10 | loss 0.82\n",
      "| epoch 26 | iter 10 / 10 | loss 0.78\n",
      "| epoch 27 | iter 10 / 10 | loss 0.76\n",
      "| epoch 28 | iter 10 / 10 | loss 0.76\n",
      "| epoch 29 | iter 10 / 10 | loss 0.78\n",
      "| epoch 30 | iter 10 / 10 | loss 0.75\n",
      "| epoch 31 | iter 10 / 10 | loss 0.78\n",
      "| epoch 32 | iter 10 / 10 | loss 0.77\n",
      "| epoch 33 | iter 10 / 10 | loss 0.77\n",
      "| epoch 34 | iter 10 / 10 | loss 0.78\n",
      "| epoch 35 | iter 10 / 10 | loss 0.75\n",
      "| epoch 36 | iter 10 / 10 | loss 0.74\n",
      "| epoch 37 | iter 10 / 10 | loss 0.76\n",
      "| epoch 38 | iter 10 / 10 | loss 0.76\n",
      "| epoch 39 | iter 10 / 10 | loss 0.73\n",
      "| epoch 40 | iter 10 / 10 | loss 0.75\n",
      "| epoch 41 | iter 10 / 10 | loss 0.76\n",
      "| epoch 42 | iter 10 / 10 | loss 0.76\n",
      "| epoch 43 | iter 10 / 10 | loss 0.76\n",
      "| epoch 44 | iter 10 / 10 | loss 0.74\n",
      "| epoch 45 | iter 10 / 10 | loss 0.75\n",
      "| epoch 46 | iter 10 / 10 | loss 0.73\n",
      "| epoch 47 | iter 10 / 10 | loss 0.72\n",
      "| epoch 48 | iter 10 / 10 | loss 0.73\n",
      "| epoch 49 | iter 10 / 10 | loss 0.72\n",
      "| epoch 50 | iter 10 / 10 | loss 0.72\n",
      "| epoch 51 | iter 10 / 10 | loss 0.72\n",
      "| epoch 52 | iter 10 / 10 | loss 0.72\n",
      "| epoch 53 | iter 10 / 10 | loss 0.74\n",
      "| epoch 54 | iter 10 / 10 | loss 0.74\n",
      "| epoch 55 | iter 10 / 10 | loss 0.72\n",
      "| epoch 56 | iter 10 / 10 | loss 0.72\n",
      "| epoch 57 | iter 10 / 10 | loss 0.71\n",
      "| epoch 58 | iter 10 / 10 | loss 0.70\n",
      "| epoch 59 | iter 10 / 10 | loss 0.72\n",
      "| epoch 60 | iter 10 / 10 | loss 0.70\n",
      "| epoch 61 | iter 10 / 10 | loss 0.71\n",
      "| epoch 62 | iter 10 / 10 | loss 0.72\n",
      "| epoch 63 | iter 10 / 10 | loss 0.70\n",
      "| epoch 64 | iter 10 / 10 | loss 0.71\n",
      "| epoch 65 | iter 10 / 10 | loss 0.73\n",
      "| epoch 66 | iter 10 / 10 | loss 0.70\n",
      "| epoch 67 | iter 10 / 10 | loss 0.71\n",
      "| epoch 68 | iter 10 / 10 | loss 0.69\n",
      "| epoch 69 | iter 10 / 10 | loss 0.70\n",
      "| epoch 70 | iter 10 / 10 | loss 0.71\n",
      "| epoch 71 | iter 10 / 10 | loss 0.68\n",
      "| epoch 72 | iter 10 / 10 | loss 0.69\n",
      "| epoch 73 | iter 10 / 10 | loss 0.67\n",
      "| epoch 74 | iter 10 / 10 | loss 0.68\n",
      "| epoch 75 | iter 10 / 10 | loss 0.67\n",
      "| epoch 76 | iter 10 / 10 | loss 0.66\n",
      "| epoch 77 | iter 10 / 10 | loss 0.69\n",
      "| epoch 78 | iter 10 / 10 | loss 0.64\n",
      "| epoch 79 | iter 10 / 10 | loss 0.68\n",
      "| epoch 80 | iter 10 / 10 | loss 0.64\n",
      "| epoch 81 | iter 10 / 10 | loss 0.64\n",
      "| epoch 82 | iter 10 / 10 | loss 0.66\n",
      "| epoch 83 | iter 10 / 10 | loss 0.62\n",
      "| epoch 84 | iter 10 / 10 | loss 0.62\n",
      "| epoch 85 | iter 10 / 10 | loss 0.61\n",
      "| epoch 86 | iter 10 / 10 | loss 0.60\n",
      "| epoch 87 | iter 10 / 10 | loss 0.60\n",
      "| epoch 88 | iter 10 / 10 | loss 0.61\n",
      "| epoch 89 | iter 10 / 10 | loss 0.59\n",
      "| epoch 90 | iter 10 / 10 | loss 0.58\n",
      "| epoch 91 | iter 10 / 10 | loss 0.56\n",
      "| epoch 92 | iter 10 / 10 | loss 0.56\n",
      "| epoch 93 | iter 10 / 10 | loss 0.54\n",
      "| epoch 94 | iter 10 / 10 | loss 0.53\n",
      "| epoch 95 | iter 10 / 10 | loss 0.53\n",
      "| epoch 96 | iter 10 / 10 | loss 0.52\n",
      "| epoch 97 | iter 10 / 10 | loss 0.51\n",
      "| epoch 98 | iter 10 / 10 | loss 0.50\n",
      "| epoch 99 | iter 10 / 10 | loss 0.48\n",
      "| epoch 100 | iter 10 / 10 | loss 0.48\n",
      "| epoch 101 | iter 10 / 10 | loss 0.46\n",
      "| epoch 102 | iter 10 / 10 | loss 0.45\n",
      "| epoch 103 | iter 10 / 10 | loss 0.45\n",
      "| epoch 104 | iter 10 / 10 | loss 0.44\n",
      "| epoch 105 | iter 10 / 10 | loss 0.44\n",
      "| epoch 106 | iter 10 / 10 | loss 0.41\n",
      "| epoch 107 | iter 10 / 10 | loss 0.40\n",
      "| epoch 108 | iter 10 / 10 | loss 0.41\n",
      "| epoch 109 | iter 10 / 10 | loss 0.40\n",
      "| epoch 110 | iter 10 / 10 | loss 0.40\n",
      "| epoch 111 | iter 10 / 10 | loss 0.38\n",
      "| epoch 112 | iter 10 / 10 | loss 0.38\n",
      "| epoch 113 | iter 10 / 10 | loss 0.36\n",
      "| epoch 114 | iter 10 / 10 | loss 0.37\n",
      "| epoch 115 | iter 10 / 10 | loss 0.35\n",
      "| epoch 116 | iter 10 / 10 | loss 0.34\n",
      "| epoch 117 | iter 10 / 10 | loss 0.34\n",
      "| epoch 118 | iter 10 / 10 | loss 0.34\n",
      "| epoch 119 | iter 10 / 10 | loss 0.33\n",
      "| epoch 120 | iter 10 / 10 | loss 0.34\n",
      "| epoch 121 | iter 10 / 10 | loss 0.32\n",
      "| epoch 122 | iter 10 / 10 | loss 0.32\n",
      "| epoch 123 | iter 10 / 10 | loss 0.31\n",
      "| epoch 124 | iter 10 / 10 | loss 0.31\n",
      "| epoch 125 | iter 10 / 10 | loss 0.30\n",
      "| epoch 126 | iter 10 / 10 | loss 0.30\n",
      "| epoch 127 | iter 10 / 10 | loss 0.28\n",
      "| epoch 128 | iter 10 / 10 | loss 0.28\n",
      "| epoch 129 | iter 10 / 10 | loss 0.28\n",
      "| epoch 130 | iter 10 / 10 | loss 0.28\n",
      "| epoch 131 | iter 10 / 10 | loss 0.27\n",
      "| epoch 132 | iter 10 / 10 | loss 0.27\n",
      "| epoch 133 | iter 10 / 10 | loss 0.27\n",
      "| epoch 134 | iter 10 / 10 | loss 0.27\n",
      "| epoch 135 | iter 10 / 10 | loss 0.27\n",
      "| epoch 136 | iter 10 / 10 | loss 0.26\n",
      "| epoch 137 | iter 10 / 10 | loss 0.26\n",
      "| epoch 138 | iter 10 / 10 | loss 0.26\n",
      "| epoch 139 | iter 10 / 10 | loss 0.25\n",
      "| epoch 140 | iter 10 / 10 | loss 0.24\n",
      "| epoch 141 | iter 10 / 10 | loss 0.24\n",
      "| epoch 142 | iter 10 / 10 | loss 0.25\n",
      "| epoch 143 | iter 10 / 10 | loss 0.24\n",
      "| epoch 144 | iter 10 / 10 | loss 0.24\n",
      "| epoch 145 | iter 10 / 10 | loss 0.23\n",
      "| epoch 146 | iter 10 / 10 | loss 0.24\n",
      "| epoch 147 | iter 10 / 10 | loss 0.23\n",
      "| epoch 148 | iter 10 / 10 | loss 0.23\n",
      "| epoch 149 | iter 10 / 10 | loss 0.22\n",
      "| epoch 150 | iter 10 / 10 | loss 0.22\n",
      "| epoch 151 | iter 10 / 10 | loss 0.22\n",
      "| epoch 152 | iter 10 / 10 | loss 0.22\n",
      "| epoch 153 | iter 10 / 10 | loss 0.22\n",
      "| epoch 154 | iter 10 / 10 | loss 0.22\n",
      "| epoch 155 | iter 10 / 10 | loss 0.22\n",
      "| epoch 156 | iter 10 / 10 | loss 0.21\n",
      "| epoch 157 | iter 10 / 10 | loss 0.21\n",
      "| epoch 158 | iter 10 / 10 | loss 0.20\n",
      "| epoch 159 | iter 10 / 10 | loss 0.21\n",
      "| epoch 160 | iter 10 / 10 | loss 0.20\n",
      "| epoch 161 | iter 10 / 10 | loss 0.20\n",
      "| epoch 162 | iter 10 / 10 | loss 0.20\n",
      "| epoch 163 | iter 10 / 10 | loss 0.21\n",
      "| epoch 164 | iter 10 / 10 | loss 0.20\n",
      "| epoch 165 | iter 10 / 10 | loss 0.20\n",
      "| epoch 166 | iter 10 / 10 | loss 0.19\n",
      "| epoch 167 | iter 10 / 10 | loss 0.19\n",
      "| epoch 168 | iter 10 / 10 | loss 0.19\n",
      "| epoch 169 | iter 10 / 10 | loss 0.19\n",
      "| epoch 170 | iter 10 / 10 | loss 0.19\n",
      "| epoch 171 | iter 10 / 10 | loss 0.19\n",
      "| epoch 172 | iter 10 / 10 | loss 0.18\n",
      "| epoch 173 | iter 10 / 10 | loss 0.18\n",
      "| epoch 174 | iter 10 / 10 | loss 0.18\n",
      "| epoch 175 | iter 10 / 10 | loss 0.18\n",
      "| epoch 176 | iter 10 / 10 | loss 0.18\n",
      "| epoch 177 | iter 10 / 10 | loss 0.18\n",
      "| epoch 178 | iter 10 / 10 | loss 0.18\n",
      "| epoch 179 | iter 10 / 10 | loss 0.17\n",
      "| epoch 180 | iter 10 / 10 | loss 0.17\n",
      "| epoch 181 | iter 10 / 10 | loss 0.18\n",
      "| epoch 182 | iter 10 / 10 | loss 0.17\n",
      "| epoch 183 | iter 10 / 10 | loss 0.18\n",
      "| epoch 184 | iter 10 / 10 | loss 0.17\n",
      "| epoch 185 | iter 10 / 10 | loss 0.17\n",
      "| epoch 186 | iter 10 / 10 | loss 0.18\n",
      "| epoch 187 | iter 10 / 10 | loss 0.17\n",
      "| epoch 188 | iter 10 / 10 | loss 0.17\n",
      "| epoch 189 | iter 10 / 10 | loss 0.17\n",
      "| epoch 190 | iter 10 / 10 | loss 0.17\n",
      "| epoch 191 | iter 10 / 10 | loss 0.16\n",
      "| epoch 192 | iter 10 / 10 | loss 0.17\n",
      "| epoch 193 | iter 10 / 10 | loss 0.16\n",
      "| epoch 194 | iter 10 / 10 | loss 0.16\n",
      "| epoch 195 | iter 10 / 10 | loss 0.16\n",
      "| epoch 196 | iter 10 / 10 | loss 0.16\n",
      "| epoch 197 | iter 10 / 10 | loss 0.16\n",
      "| epoch 198 | iter 10 / 10 | loss 0.15\n",
      "| epoch 199 | iter 10 / 10 | loss 0.16\n",
      "| epoch 200 | iter 10 / 10 | loss 0.16\n",
      "| epoch 201 | iter 10 / 10 | loss 0.15\n",
      "| epoch 202 | iter 10 / 10 | loss 0.16\n",
      "| epoch 203 | iter 10 / 10 | loss 0.16\n",
      "| epoch 204 | iter 10 / 10 | loss 0.15\n",
      "| epoch 205 | iter 10 / 10 | loss 0.16\n",
      "| epoch 206 | iter 10 / 10 | loss 0.15\n",
      "| epoch 207 | iter 10 / 10 | loss 0.15\n",
      "| epoch 208 | iter 10 / 10 | loss 0.15\n",
      "| epoch 209 | iter 10 / 10 | loss 0.15\n",
      "| epoch 210 | iter 10 / 10 | loss 0.15\n",
      "| epoch 211 | iter 10 / 10 | loss 0.15\n",
      "| epoch 212 | iter 10 / 10 | loss 0.15\n",
      "| epoch 213 | iter 10 / 10 | loss 0.15\n",
      "| epoch 214 | iter 10 / 10 | loss 0.15\n",
      "| epoch 215 | iter 10 / 10 | loss 0.15\n",
      "| epoch 216 | iter 10 / 10 | loss 0.14\n",
      "| epoch 217 | iter 10 / 10 | loss 0.14\n",
      "| epoch 218 | iter 10 / 10 | loss 0.15\n",
      "| epoch 219 | iter 10 / 10 | loss 0.14\n",
      "| epoch 220 | iter 10 / 10 | loss 0.14\n",
      "| epoch 221 | iter 10 / 10 | loss 0.14\n",
      "| epoch 222 | iter 10 / 10 | loss 0.14\n",
      "| epoch 223 | iter 10 / 10 | loss 0.14\n",
      "| epoch 224 | iter 10 / 10 | loss 0.14\n",
      "| epoch 225 | iter 10 / 10 | loss 0.14\n",
      "| epoch 226 | iter 10 / 10 | loss 0.14\n",
      "| epoch 227 | iter 10 / 10 | loss 0.14\n",
      "| epoch 228 | iter 10 / 10 | loss 0.14\n",
      "| epoch 229 | iter 10 / 10 | loss 0.13\n",
      "| epoch 230 | iter 10 / 10 | loss 0.14\n",
      "| epoch 231 | iter 10 / 10 | loss 0.13\n",
      "| epoch 232 | iter 10 / 10 | loss 0.14\n",
      "| epoch 233 | iter 10 / 10 | loss 0.13\n",
      "| epoch 234 | iter 10 / 10 | loss 0.13\n",
      "| epoch 235 | iter 10 / 10 | loss 0.13\n",
      "| epoch 236 | iter 10 / 10 | loss 0.13\n",
      "| epoch 237 | iter 10 / 10 | loss 0.14\n",
      "| epoch 238 | iter 10 / 10 | loss 0.13\n",
      "| epoch 239 | iter 10 / 10 | loss 0.13\n",
      "| epoch 240 | iter 10 / 10 | loss 0.14\n",
      "| epoch 241 | iter 10 / 10 | loss 0.13\n",
      "| epoch 242 | iter 10 / 10 | loss 0.13\n",
      "| epoch 243 | iter 10 / 10 | loss 0.13\n",
      "| epoch 244 | iter 10 / 10 | loss 0.13\n",
      "| epoch 245 | iter 10 / 10 | loss 0.13\n",
      "| epoch 246 | iter 10 / 10 | loss 0.13\n",
      "| epoch 247 | iter 10 / 10 | loss 0.13\n",
      "| epoch 248 | iter 10 / 10 | loss 0.13\n",
      "| epoch 249 | iter 10 / 10 | loss 0.13\n",
      "| epoch 250 | iter 10 / 10 | loss 0.13\n",
      "| epoch 251 | iter 10 / 10 | loss 0.13\n",
      "| epoch 252 | iter 10 / 10 | loss 0.12\n",
      "| epoch 253 | iter 10 / 10 | loss 0.12\n",
      "| epoch 254 | iter 10 / 10 | loss 0.12\n",
      "| epoch 255 | iter 10 / 10 | loss 0.12\n",
      "| epoch 256 | iter 10 / 10 | loss 0.12\n",
      "| epoch 257 | iter 10 / 10 | loss 0.12\n",
      "| epoch 258 | iter 10 / 10 | loss 0.12\n",
      "| epoch 259 | iter 10 / 10 | loss 0.13\n",
      "| epoch 260 | iter 10 / 10 | loss 0.12\n",
      "| epoch 261 | iter 10 / 10 | loss 0.13\n",
      "| epoch 262 | iter 10 / 10 | loss 0.12\n",
      "| epoch 263 | iter 10 / 10 | loss 0.12\n",
      "| epoch 264 | iter 10 / 10 | loss 0.13\n",
      "| epoch 265 | iter 10 / 10 | loss 0.12\n",
      "| epoch 266 | iter 10 / 10 | loss 0.12\n",
      "| epoch 267 | iter 10 / 10 | loss 0.12\n",
      "| epoch 268 | iter 10 / 10 | loss 0.12\n",
      "| epoch 269 | iter 10 / 10 | loss 0.11\n",
      "| epoch 270 | iter 10 / 10 | loss 0.12\n",
      "| epoch 271 | iter 10 / 10 | loss 0.12\n",
      "| epoch 272 | iter 10 / 10 | loss 0.12\n",
      "| epoch 273 | iter 10 / 10 | loss 0.12\n",
      "| epoch 274 | iter 10 / 10 | loss 0.12\n",
      "| epoch 275 | iter 10 / 10 | loss 0.11\n",
      "| epoch 276 | iter 10 / 10 | loss 0.12\n",
      "| epoch 277 | iter 10 / 10 | loss 0.12\n",
      "| epoch 278 | iter 10 / 10 | loss 0.11\n",
      "| epoch 279 | iter 10 / 10 | loss 0.11\n",
      "| epoch 280 | iter 10 / 10 | loss 0.11\n",
      "| epoch 281 | iter 10 / 10 | loss 0.11\n",
      "| epoch 282 | iter 10 / 10 | loss 0.12\n",
      "| epoch 283 | iter 10 / 10 | loss 0.11\n",
      "| epoch 284 | iter 10 / 10 | loss 0.11\n",
      "| epoch 285 | iter 10 / 10 | loss 0.11\n",
      "| epoch 286 | iter 10 / 10 | loss 0.11\n",
      "| epoch 287 | iter 10 / 10 | loss 0.11\n",
      "| epoch 288 | iter 10 / 10 | loss 0.12\n",
      "| epoch 289 | iter 10 / 10 | loss 0.11\n",
      "| epoch 290 | iter 10 / 10 | loss 0.11\n",
      "| epoch 291 | iter 10 / 10 | loss 0.11\n",
      "| epoch 292 | iter 10 / 10 | loss 0.11\n",
      "| epoch 293 | iter 10 / 10 | loss 0.11\n",
      "| epoch 294 | iter 10 / 10 | loss 0.11\n",
      "| epoch 295 | iter 10 / 10 | loss 0.12\n",
      "| epoch 296 | iter 10 / 10 | loss 0.11\n",
      "| epoch 297 | iter 10 / 10 | loss 0.12\n",
      "| epoch 298 | iter 10 / 10 | loss 0.11\n",
      "| epoch 299 | iter 10 / 10 | loss 0.11\n",
      "| epoch 300 | iter 10 / 10 | loss 0.11\n"
     ]
    },
    {
     "data": {
      "text/plain": [
       "<Figure size 640x480 with 1 Axes>"
      ],
      "image/png": "[encoded data removed]"
     },
     "metadata": {},
     "output_type": "display_data"
    },
    {
     "data": {
      "text/plain": [
       "<Figure size 640x480 with 1 Axes>"
      ],
      "image/png": "[encoded data removed]"
     },
     "metadata": {},
     "output_type": "display_data"
    }
   ],
   "execution_count": 36
  },
  {
   "metadata": {
    "ExecuteTime": {
     "end_time": "2025-03-26T09:13:16.481502Z",
     "start_time": "2025-03-26T09:13:16.282139Z"
    }
   },
   "cell_type": "code",
   "source": [
    "import sys\n",
    "sys.path.append('..')\n",
    "from common.optimizer import SGD\n",
    "from common.trainer import Trainer\n",
    "from nndataset import spiral\n",
    "\n",
    "max_epoch = 300\n",
    "batch_size = 30\n",
    "hidden_size = 10\n",
    "learning_rate = 1.0\n",
    "\n",
    "x, t = spiral.load_data()\n",
    "model = TwoLayerNet(input_size=2, hidden_size=hidden_size, output_size=3)\n",
    "optimizer = SGD(lr=learning_rate)\n",
    "\n",
    "trainer = Trainer(model, optimizer)\n",
    "trainer.fit(x, t, max_epoch, batch_size, eval_interval=10)\n",
    "trainer.plot()"
   ],
   "id": "7679b590ae7f9599",
   "outputs": [
    {
     "name": "stdout",
     "output_type": "stream",
     "text": [
      "| epoch 1 |  iter 1 / 10 | time 0[s] | loss 1.10\n",
      "| epoch 2 |  iter 1 / 10 | time 0[s] | loss 1.12\n",
      "| epoch 3 |  iter 1 / 10 | time 0[s] | loss 1.13\n",
      "| epoch 4 |  iter 1 / 10 | time 0[s] | loss 1.12\n",
      "| epoch 5 |  iter 1 / 10 | time 0[s] | loss 1.12\n",
      "| epoch 6 |  iter 1 / 10 | time 0[s] | loss 1.10\n",
      "| epoch 7 |  iter 1 / 10 | time 0[s] | loss 1.14\n",
      "| epoch 8 |  iter 1 / 10 | time 0[s] | loss 1.16\n",
      "| epoch 9 |  iter 1 / 10 | time 0[s] | loss 1.11\n",
      "| epoch 10 |  iter 1 / 10 | time 0[s] | loss 1.12\n",
      "| epoch 11 |  iter 1 / 10 | time 0[s] | loss 1.12\n",
      "| epoch 12 |  iter 1 / 10 | time 0[s] | loss 1.12\n",
      "| epoch 13 |  iter 1 / 10 | time 0[s] | loss 1.10\n",
      "| epoch 14 |  iter 1 / 10 | time 0[s] | loss 1.09\n",
      "| epoch 15 |  iter 1 / 10 | time 0[s] | loss 1.08\n",
      "| epoch 16 |  iter 1 / 10 | time 0[s] | loss 1.04\n",
      "| epoch 17 |  iter 1 / 10 | time 0[s] | loss 1.03\n",
      "| epoch 18 |  iter 1 / 10 | time 0[s] | loss 0.94\n",
      "| epoch 19 |  iter 1 / 10 | time 0[s] | loss 0.92\n",
      "| epoch 20 |  iter 1 / 10 | time 0[s] | loss 0.92\n",
      "| epoch 21 |  iter 1 / 10 | time 0[s] | loss 0.87\n",
      "| epoch 22 |  iter 1 / 10 | time 0[s] | loss 0.85\n",
      "| epoch 23 |  iter 1 / 10 | time 0[s] | loss 0.80\n",
      "| epoch 24 |  iter 1 / 10 | time 0[s] | loss 0.79\n",
      "| epoch 25 |  iter 1 / 10 | time 0[s] | loss 0.78\n",
      "| epoch 26 |  iter 1 / 10 | time 0[s] | loss 0.83\n",
      "| epoch 27 |  iter 1 / 10 | time 0[s] | loss 0.77\n",
      "| epoch 28 |  iter 1 / 10 | time 0[s] | loss 0.76\n",
      "| epoch 29 |  iter 1 / 10 | time 0[s] | loss 0.77\n",
      "| epoch 30 |  iter 1 / 10 | time 0[s] | loss 0.76\n",
      "| epoch 31 |  iter 1 / 10 | time 0[s] | loss 0.77\n",
      "| epoch 32 |  iter 1 / 10 | time 0[s] | loss 0.75\n",
      "| epoch 33 |  iter 1 / 10 | time 0[s] | loss 0.78\n",
      "| epoch 34 |  iter 1 / 10 | time 0[s] | loss 0.77\n",
      "| epoch 35 |  iter 1 / 10 | time 0[s] | loss 0.78\n",
      "| epoch 36 |  iter 1 / 10 | time 0[s] | loss 0.74\n",
      "| epoch 37 |  iter 1 / 10 | time 0[s] | loss 0.75\n",
      "| epoch 38 |  iter 1 / 10 | time 0[s] | loss 0.77\n",
      "| epoch 39 |  iter 1 / 10 | time 0[s] | loss 0.75\n",
      "| epoch 40 |  iter 1 / 10 | time 0[s] | loss 0.73\n",
      "| epoch 41 |  iter 1 / 10 | time 0[s] | loss 0.75\n",
      "| epoch 42 |  iter 1 / 10 | time 0[s] | loss 0.76\n",
      "| epoch 43 |  iter 1 / 10 | time 0[s] | loss 0.79\n",
      "| epoch 44 |  iter 1 / 10 | time 0[s] | loss 0.74\n",
      "| epoch 45 |  iter 1 / 10 | time 0[s] | loss 0.75\n",
      "| epoch 46 |  iter 1 / 10 | time 0[s] | loss 0.73\n",
      "| epoch 47 |  iter 1 / 10 | time 0[s] | loss 0.73\n",
      "| epoch 48 |  iter 1 / 10 | time 0[s] | loss 0.73\n",
      "| epoch 49 |  iter 1 / 10 | time 0[s] | loss 0.73\n",
      "| epoch 50 |  iter 1 / 10 | time 0[s] | loss 0.72\n",
      "| epoch 51 |  iter 1 / 10 | time 0[s] | loss 0.72\n",
      "| epoch 52 |  iter 1 / 10 | time 0[s] | loss 0.72\n",
      "| epoch 53 |  iter 1 / 10 | time 0[s] | loss 0.72\n",
      "| epoch 54 |  iter 1 / 10 | time 0[s] | loss 0.74\n",
      "| epoch 55 |  iter 1 / 10 | time 0[s] | loss 0.74\n",
      "| epoch 56 |  iter 1 / 10 | time 0[s] | loss 0.73\n",
      "| epoch 57 |  iter 1 / 10 | time 0[s] | loss 0.72\n",
      "| epoch 58 |  iter 1 / 10 | time 0[s] | loss 0.69\n",
      "| epoch 59 |  iter 1 / 10 | time 0[s] | loss 0.72\n",
      "| epoch 60 |  iter 1 / 10 | time 0[s] | loss 0.70\n",
      "| epoch 61 |  iter 1 / 10 | time 0[s] | loss 0.69\n",
      "| epoch 62 |  iter 1 / 10 | time 0[s] | loss 0.71\n",
      "| epoch 63 |  iter 1 / 10 | time 0[s] | loss 0.70\n",
      "| epoch 64 |  iter 1 / 10 | time 0[s] | loss 0.71\n",
      "| epoch 65 |  iter 1 / 10 | time 0[s] | loss 0.72\n",
      "| epoch 66 |  iter 1 / 10 | time 0[s] | loss 0.71\n",
      "| epoch 67 |  iter 1 / 10 | time 0[s] | loss 0.71\n",
      "| epoch 68 |  iter 1 / 10 | time 0[s] | loss 0.71\n",
      "| epoch 69 |  iter 1 / 10 | time 0[s] | loss 0.70\n",
      "| epoch 70 |  iter 1 / 10 | time 0[s] | loss 0.68\n",
      "| epoch 71 |  iter 1 / 10 | time 0[s] | loss 0.73\n",
      "| epoch 72 |  iter 1 / 10 | time 0[s] | loss 0.66\n",
      "| epoch 73 |  iter 1 / 10 | time 0[s] | loss 0.69\n",
      "| epoch 74 |  iter 1 / 10 | time 0[s] | loss 0.66\n",
      "| epoch 75 |  iter 1 / 10 | time 0[s] | loss 0.70\n",
      "| epoch 76 |  iter 1 / 10 | time 0[s] | loss 0.65\n",
      "| epoch 77 |  iter 1 / 10 | time 0[s] | loss 0.67\n",
      "| epoch 78 |  iter 1 / 10 | time 0[s] | loss 0.70\n",
      "| epoch 79 |  iter 1 / 10 | time 0[s] | loss 0.63\n",
      "| epoch 80 |  iter 1 / 10 | time 0[s] | loss 0.66\n",
      "| epoch 81 |  iter 1 / 10 | time 0[s] | loss 0.65\n",
      "| epoch 82 |  iter 1 / 10 | time 0[s] | loss 0.66\n",
      "| epoch 83 |  iter 1 / 10 | time 0[s] | loss 0.64\n",
      "| epoch 84 |  iter 1 / 10 | time 0[s] | loss 0.62\n",
      "| epoch 85 |  iter 1 / 10 | time 0[s] | loss 0.62\n",
      "| epoch 86 |  iter 1 / 10 | time 0[s] | loss 0.63\n",
      "| epoch 87 |  iter 1 / 10 | time 0[s] | loss 0.59\n",
      "| epoch 88 |  iter 1 / 10 | time 0[s] | loss 0.58\n",
      "| epoch 89 |  iter 1 / 10 | time 0[s] | loss 0.61\n",
      "| epoch 90 |  iter 1 / 10 | time 0[s] | loss 0.59\n",
      "| epoch 91 |  iter 1 / 10 | time 0[s] | loss 0.58\n",
      "| epoch 92 |  iter 1 / 10 | time 0[s] | loss 0.57\n",
      "| epoch 93 |  iter 1 / 10 | time 0[s] | loss 0.55\n",
      "| epoch 94 |  iter 1 / 10 | time 0[s] | loss 0.54\n",
      "| epoch 95 |  iter 1 / 10 | time 0[s] | loss 0.53\n",
      "| epoch 96 |  iter 1 / 10 | time 0[s] | loss 0.54\n",
      "| epoch 97 |  iter 1 / 10 | time 0[s] | loss 0.51\n",
      "| epoch 98 |  iter 1 / 10 | time 0[s] | loss 0.51\n",
      "| epoch 99 |  iter 1 / 10 | time 0[s] | loss 0.50\n",
      "| epoch 100 |  iter 1 / 10 | time 0[s] | loss 0.47\n",
      "| epoch 101 |  iter 1 / 10 | time 0[s] | loss 0.49\n",
      "| epoch 102 |  iter 1 / 10 | time 0[s] | loss 0.46\n",
      "| epoch 103 |  iter 1 / 10 | time 0[s] | loss 0.44\n",
      "| epoch 104 |  iter 1 / 10 | time 0[s] | loss 0.47\n",
      "| epoch 105 |  iter 1 / 10 | time 0[s] | loss 0.44\n",
      "| epoch 106 |  iter 1 / 10 | time 0[s] | loss 0.43\n",
      "| epoch 107 |  iter 1 / 10 | time 0[s] | loss 0.43\n",
      "| epoch 108 |  iter 1 / 10 | time 0[s] | loss 0.39\n",
      "| epoch 109 |  iter 1 / 10 | time 0[s] | loss 0.40\n",
      "| epoch 110 |  iter 1 / 10 | time 0[s] | loss 0.41\n",
      "| epoch 111 |  iter 1 / 10 | time 0[s] | loss 0.38\n",
      "| epoch 112 |  iter 1 / 10 | time 0[s] | loss 0.38\n",
      "| epoch 113 |  iter 1 / 10 | time 0[s] | loss 0.38\n",
      "| epoch 114 |  iter 1 / 10 | time 0[s] | loss 0.37\n",
      "| epoch 115 |  iter 1 / 10 | time 0[s] | loss 0.36\n",
      "| epoch 116 |  iter 1 / 10 | time 0[s] | loss 0.34\n",
      "| epoch 117 |  iter 1 / 10 | time 0[s] | loss 0.35\n",
      "| epoch 118 |  iter 1 / 10 | time 0[s] | loss 0.33\n",
      "| epoch 119 |  iter 1 / 10 | time 0[s] | loss 0.35\n",
      "| epoch 120 |  iter 1 / 10 | time 0[s] | loss 0.33\n",
      "| epoch 121 |  iter 1 / 10 | time 0[s] | loss 0.33\n",
      "| epoch 122 |  iter 1 / 10 | time 0[s] | loss 0.32\n",
      "| epoch 123 |  iter 1 / 10 | time 0[s] | loss 0.31\n",
      "| epoch 124 |  iter 1 / 10 | time 0[s] | loss 0.31\n",
      "| epoch 125 |  iter 1 / 10 | time 0[s] | loss 0.31\n",
      "| epoch 126 |  iter 1 / 10 | time 0[s] | loss 0.30\n",
      "| epoch 127 |  iter 1 / 10 | time 0[s] | loss 0.30\n",
      "| epoch 128 |  iter 1 / 10 | time 0[s] | loss 0.27\n",
      "| epoch 129 |  iter 1 / 10 | time 0[s] | loss 0.30\n",
      "| epoch 130 |  iter 1 / 10 | time 0[s] | loss 0.28\n",
      "| epoch 131 |  iter 1 / 10 | time 0[s] | loss 0.26\n",
      "| epoch 132 |  iter 1 / 10 | time 0[s] | loss 0.27\n",
      "| epoch 133 |  iter 1 / 10 | time 0[s] | loss 0.27\n",
      "| epoch 134 |  iter 1 / 10 | time 0[s] | loss 0.28\n",
      "| epoch 135 |  iter 1 / 10 | time 0[s] | loss 0.26\n",
      "| epoch 136 |  iter 1 / 10 | time 0[s] | loss 0.28\n",
      "| epoch 137 |  iter 1 / 10 | time 0[s] | loss 0.25\n",
      "| epoch 138 |  iter 1 / 10 | time 0[s] | loss 0.26\n",
      "| epoch 139 |  iter 1 / 10 | time 0[s] | loss 0.26\n",
      "| epoch 140 |  iter 1 / 10 | time 0[s] | loss 0.26\n",
      "| epoch 141 |  iter 1 / 10 | time 0[s] | loss 0.23\n",
      "| epoch 142 |  iter 1 / 10 | time 0[s] | loss 0.23\n",
      "| epoch 143 |  iter 1 / 10 | time 0[s] | loss 0.26\n",
      "| epoch 144 |  iter 1 / 10 | time 0[s] | loss 0.23\n",
      "| epoch 145 |  iter 1 / 10 | time 0[s] | loss 0.24\n",
      "| epoch 146 |  iter 1 / 10 | time 0[s] | loss 0.24\n",
      "| epoch 147 |  iter 1 / 10 | time 0[s] | loss 0.25\n",
      "| epoch 148 |  iter 1 / 10 | time 0[s] | loss 0.21\n",
      "| epoch 149 |  iter 1 / 10 | time 0[s] | loss 0.23\n",
      "| epoch 150 |  iter 1 / 10 | time 0[s] | loss 0.22\n",
      "| epoch 151 |  iter 1 / 10 | time 0[s] | loss 0.22\n",
      "| epoch 152 |  iter 1 / 10 | time 0[s] | loss 0.23\n",
      "| epoch 153 |  iter 1 / 10 | time 0[s] | loss 0.23\n",
      "| epoch 154 |  iter 1 / 10 | time 0[s] | loss 0.20\n",
      "| epoch 155 |  iter 1 / 10 | time 0[s] | loss 0.22\n",
      "| epoch 156 |  iter 1 / 10 | time 0[s] | loss 0.21\n",
      "| epoch 157 |  iter 1 / 10 | time 0[s] | loss 0.21\n",
      "| epoch 158 |  iter 1 / 10 | time 0[s] | loss 0.20\n",
      "| epoch 159 |  iter 1 / 10 | time 0[s] | loss 0.21\n",
      "| epoch 160 |  iter 1 / 10 | time 0[s] | loss 0.20\n",
      "| epoch 161 |  iter 1 / 10 | time 0[s] | loss 0.19\n",
      "| epoch 162 |  iter 1 / 10 | time 0[s] | loss 0.22\n",
      "| epoch 163 |  iter 1 / 10 | time 0[s] | loss 0.19\n",
      "| epoch 164 |  iter 1 / 10 | time 0[s] | loss 0.21\n",
      "| epoch 165 |  iter 1 / 10 | time 0[s] | loss 0.20\n",
      "| epoch 166 |  iter 1 / 10 | time 0[s] | loss 0.20\n",
      "| epoch 167 |  iter 1 / 10 | time 0[s] | loss 0.20\n",
      "| epoch 168 |  iter 1 / 10 | time 0[s] | loss 0.19\n",
      "| epoch 169 |  iter 1 / 10 | time 0[s] | loss 0.18\n",
      "| epoch 170 |  iter 1 / 10 | time 0[s] | loss 0.19\n",
      "| epoch 171 |  iter 1 / 10 | time 0[s] | loss 0.19\n",
      "| epoch 172 |  iter 1 / 10 | time 0[s] | loss 0.20\n",
      "| epoch 173 |  iter 1 / 10 | time 0[s] | loss 0.16\n",
      "| epoch 174 |  iter 1 / 10 | time 0[s] | loss 0.20\n",
      "| epoch 175 |  iter 1 / 10 | time 0[s] | loss 0.18\n",
      "| epoch 176 |  iter 1 / 10 | time 0[s] | loss 0.17\n",
      "| epoch 177 |  iter 1 / 10 | time 0[s] | loss 0.17\n",
      "| epoch 178 |  iter 1 / 10 | time 0[s] | loss 0.17\n",
      "| epoch 179 |  iter 1 / 10 | time 0[s] | loss 0.18\n",
      "| epoch 180 |  iter 1 / 10 | time 0[s] | loss 0.19\n",
      "| epoch 181 |  iter 1 / 10 | time 0[s] | loss 0.17\n",
      "| epoch 182 |  iter 1 / 10 | time 0[s] | loss 0.18\n",
      "| epoch 183 |  iter 1 / 10 | time 0[s] | loss 0.16\n",
      "| epoch 184 |  iter 1 / 10 | time 0[s] | loss 0.18\n",
      "| epoch 185 |  iter 1 / 10 | time 0[s] | loss 0.18\n",
      "| epoch 186 |  iter 1 / 10 | time 0[s] | loss 0.17\n",
      "| epoch 187 |  iter 1 / 10 | time 0[s] | loss 0.17\n",
      "| epoch 188 |  iter 1 / 10 | time 0[s] | loss 0.18\n",
      "| epoch 189 |  iter 1 / 10 | time 0[s] | loss 0.16\n",
      "| epoch 190 |  iter 1 / 10 | time 0[s] | loss 0.16\n",
      "| epoch 191 |  iter 1 / 10 | time 0[s] | loss 0.17\n",
      "| epoch 192 |  iter 1 / 10 | time 0[s] | loss 0.17\n",
      "| epoch 193 |  iter 1 / 10 | time 0[s] | loss 0.16\n",
      "| epoch 194 |  iter 1 / 10 | time 0[s] | loss 0.16\n",
      "| epoch 195 |  iter 1 / 10 | time 0[s] | loss 0.16\n",
      "| epoch 196 |  iter 1 / 10 | time 0[s] | loss 0.17\n",
      "| epoch 197 |  iter 1 / 10 | time 0[s] | loss 0.16\n",
      "| epoch 198 |  iter 1 / 10 | time 0[s] | loss 0.17\n",
      "| epoch 199 |  iter 1 / 10 | time 0[s] | loss 0.16\n",
      "| epoch 200 |  iter 1 / 10 | time 0[s] | loss 0.14\n",
      "| epoch 201 |  iter 1 / 10 | time 0[s] | loss 0.16\n",
      "| epoch 202 |  iter 1 / 10 | time 0[s] | loss 0.16\n",
      "| epoch 203 |  iter 1 / 10 | time 0[s] | loss 0.15\n",
      "| epoch 204 |  iter 1 / 10 | time 0[s] | loss 0.16\n",
      "| epoch 205 |  iter 1 / 10 | time 0[s] | loss 0.14\n",
      "| epoch 206 |  iter 1 / 10 | time 0[s] | loss 0.16\n",
      "| epoch 207 |  iter 1 / 10 | time 0[s] | loss 0.16\n",
      "| epoch 208 |  iter 1 / 10 | time 0[s] | loss 0.14\n",
      "| epoch 209 |  iter 1 / 10 | time 0[s] | loss 0.15\n",
      "| epoch 210 |  iter 1 / 10 | time 0[s] | loss 0.16\n",
      "| epoch 211 |  iter 1 / 10 | time 0[s] | loss 0.14\n",
      "| epoch 212 |  iter 1 / 10 | time 0[s] | loss 0.15\n",
      "| epoch 213 |  iter 1 / 10 | time 0[s] | loss 0.15\n",
      "| epoch 214 |  iter 1 / 10 | time 0[s] | loss 0.15\n",
      "| epoch 215 |  iter 1 / 10 | time 0[s] | loss 0.14\n",
      "| epoch 216 |  iter 1 / 10 | time 0[s] | loss 0.14\n",
      "| epoch 217 |  iter 1 / 10 | time 0[s] | loss 0.15\n",
      "| epoch 218 |  iter 1 / 10 | time 0[s] | loss 0.14\n",
      "| epoch 219 |  iter 1 / 10 | time 0[s] | loss 0.15\n",
      "| epoch 220 |  iter 1 / 10 | time 0[s] | loss 0.15\n",
      "| epoch 221 |  iter 1 / 10 | time 0[s] | loss 0.14\n",
      "| epoch 222 |  iter 1 / 10 | time 0[s] | loss 0.13\n",
      "| epoch 223 |  iter 1 / 10 | time 0[s] | loss 0.15\n",
      "| epoch 224 |  iter 1 / 10 | time 0[s] | loss 0.14\n",
      "| epoch 225 |  iter 1 / 10 | time 0[s] | loss 0.16\n",
      "| epoch 226 |  iter 1 / 10 | time 0[s] | loss 0.12\n",
      "| epoch 227 |  iter 1 / 10 | time 0[s] | loss 0.13\n",
      "| epoch 228 |  iter 1 / 10 | time 0[s] | loss 0.15\n",
      "| epoch 229 |  iter 1 / 10 | time 0[s] | loss 0.14\n",
      "| epoch 230 |  iter 1 / 10 | time 0[s] | loss 0.13\n",
      "| epoch 231 |  iter 1 / 10 | time 0[s] | loss 0.14\n",
      "| epoch 232 |  iter 1 / 10 | time 0[s] | loss 0.13\n",
      "| epoch 233 |  iter 1 / 10 | time 0[s] | loss 0.13\n",
      "| epoch 234 |  iter 1 / 10 | time 0[s] | loss 0.14\n",
      "| epoch 235 |  iter 1 / 10 | time 0[s] | loss 0.13\n",
      "| epoch 236 |  iter 1 / 10 | time 0[s] | loss 0.12\n",
      "| epoch 237 |  iter 1 / 10 | time 0[s] | loss 0.13\n",
      "| epoch 238 |  iter 1 / 10 | time 0[s] | loss 0.14\n",
      "| epoch 239 |  iter 1 / 10 | time 0[s] | loss 0.14\n",
      "| epoch 240 |  iter 1 / 10 | time 0[s] | loss 0.13\n",
      "| epoch 241 |  iter 1 / 10 | time 0[s] | loss 0.14\n",
      "| epoch 242 |  iter 1 / 10 | time 0[s] | loss 0.13\n",
      "| epoch 243 |  iter 1 / 10 | time 0[s] | loss 0.13\n",
      "| epoch 244 |  iter 1 / 10 | time 0[s] | loss 0.14\n",
      "| epoch 245 |  iter 1 / 10 | time 0[s] | loss 0.12\n",
      "| epoch 246 |  iter 1 / 10 | time 0[s] | loss 0.13\n",
      "| epoch 247 |  iter 1 / 10 | time 0[s] | loss 0.13\n",
      "| epoch 248 |  iter 1 / 10 | time 0[s] | loss 0.12\n",
      "| epoch 249 |  iter 1 / 10 | time 0[s] | loss 0.14\n",
      "| epoch 250 |  iter 1 / 10 | time 0[s] | loss 0.12\n",
      "| epoch 251 |  iter 1 / 10 | time 0[s] | loss 0.13\n",
      "| epoch 252 |  iter 1 / 10 | time 0[s] | loss 0.13\n",
      "| epoch 253 |  iter 1 / 10 | time 0[s] | loss 0.12\n",
      "| epoch 254 |  iter 1 / 10 | time 0[s] | loss 0.12\n",
      "| epoch 255 |  iter 1 / 10 | time 0[s] | loss 0.13\n",
      "| epoch 256 |  iter 1 / 10 | time 0[s] | loss 0.12\n",
      "| epoch 257 |  iter 1 / 10 | time 0[s] | loss 0.12\n",
      "| epoch 258 |  iter 1 / 10 | time 0[s] | loss 0.12\n",
      "| epoch 259 |  iter 1 / 10 | time 0[s] | loss 0.13\n",
      "| epoch 260 |  iter 1 / 10 | time 0[s] | loss 0.13\n",
      "| epoch 261 |  iter 1 / 10 | time 0[s] | loss 0.11\n",
      "| epoch 262 |  iter 1 / 10 | time 0[s] | loss 0.13\n",
      "| epoch 263 |  iter 1 / 10 | time 0[s] | loss 0.12\n",
      "| epoch 264 |  iter 1 / 10 | time 0[s] | loss 0.11\n",
      "| epoch 265 |  iter 1 / 10 | time 0[s] | loss 0.14\n",
      "| epoch 266 |  iter 1 / 10 | time 0[s] | loss 0.11\n",
      "| epoch 267 |  iter 1 / 10 | time 0[s] | loss 0.13\n",
      "| epoch 268 |  iter 1 / 10 | time 0[s] | loss 0.11\n",
      "| epoch 269 |  iter 1 / 10 | time 0[s] | loss 0.13\n",
      "| epoch 270 |  iter 1 / 10 | time 0[s] | loss 0.11\n",
      "| epoch 271 |  iter 1 / 10 | time 0[s] | loss 0.12\n",
      "| epoch 272 |  iter 1 / 10 | time 0[s] | loss 0.12\n",
      "| epoch 273 |  iter 1 / 10 | time 0[s] | loss 0.12\n",
      "| epoch 274 |  iter 1 / 10 | time 0[s] | loss 0.12\n",
      "| epoch 275 |  iter 1 / 10 | time 0[s] | loss 0.12\n",
      "| epoch 276 |  iter 1 / 10 | time 0[s] | loss 0.12\n",
      "| epoch 277 |  iter 1 / 10 | time 0[s] | loss 0.11\n",
      "| epoch 278 |  iter 1 / 10 | time 0[s] | loss 0.13\n",
      "| epoch 279 |  iter 1 / 10 | time 0[s] | loss 0.11\n",
      "| epoch 280 |  iter 1 / 10 | time 0[s] | loss 0.10\n",
      "| epoch 281 |  iter 1 / 10 | time 0[s] | loss 0.12\n",
      "| epoch 282 |  iter 1 / 10 | time 0[s] | loss 0.11\n",
      "| epoch 283 |  iter 1 / 10 | time 0[s] | loss 0.12\n",
      "| epoch 284 |  iter 1 / 10 | time 0[s] | loss 0.11\n",
      "| epoch 285 |  iter 1 / 10 | time 0[s] | loss 0.11\n",
      "| epoch 286 |  iter 1 / 10 | time 0[s] | loss 0.12\n",
      "| epoch 287 |  iter 1 / 10 | time 0[s] | loss 0.11\n",
      "| epoch 288 |  iter 1 / 10 | time 0[s] | loss 0.11\n",
      "| epoch 289 |  iter 1 / 10 | time 0[s] | loss 0.12\n",
      "| epoch 290 |  iter 1 / 10 | time 0[s] | loss 0.11\n",
      "| epoch 291 |  iter 1 / 10 | time 0[s] | loss 0.11\n",
      "| epoch 292 |  iter 1 / 10 | time 0[s] | loss 0.11\n",
      "| epoch 293 |  iter 1 / 10 | time 0[s] | loss 0.11\n",
      "| epoch 294 |  iter 1 / 10 | time 0[s] | loss 0.11\n",
      "| epoch 295 |  iter 1 / 10 | time 0[s] | loss 0.11\n",
      "| epoch 296 |  iter 1 / 10 | time 0[s] | loss 0.12\n",
      "| epoch 297 |  iter 1 / 10 | time 0[s] | loss 0.11\n",
      "| epoch 298 |  iter 1 / 10 | time 0[s] | loss 0.11\n",
      "| epoch 299 |  iter 1 / 10 | time 0[s] | loss 0.11\n",
      "| epoch 300 |  iter 1 / 10 | time 0[s] | loss 0.11\n"
     ]
    },
    {
     "data": {
      "text/plain": [
       "<Figure size 640x480 with 1 Axes>"
      ],
      "image/png": "[encoded data removed]"
     },
     "metadata": {},
     "output_type": "display_data"
    }
   ],
   "execution_count": 37
  },
  {
   "metadata": {},
   "cell_type": "code",
   "outputs": [],
   "execution_count": null,
   "source": "",
   "id": "4089921036301ab5"
  }
 ],
 "metadata": {
  "kernelspec": {
   "display_name": "Python 3",
   "language": "python",
   "name": "python3"
  },
  "language_info": {
   "codemirror_mode": {
    "name": "ipython",
    "version": 2
   },
   "file_extension": ".py",
   "mimetype": "text/x-python",
   "name": "python",
   "nbconvert_exporter": "python",
   "pygments_lexer": "ipython2",
   "version": "2.7.6"
  }
 },
 "nbformat": 4,
 "nbformat_minor": 5
}
